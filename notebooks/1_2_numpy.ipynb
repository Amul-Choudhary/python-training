{
  "nbformat": 4,
  "nbformat_minor": 0,
  "metadata": {
    "colab": {
      "name": "1.2_numpy.ipynb",
      "provenance": [],
      "collapsed_sections": []
    },
    "kernelspec": {
      "name": "python3",
      "display_name": "Python 3"
    }
  },
  "cells": [
    {
      "cell_type": "markdown",
      "metadata": {
        "id": "TkYKyA-vYs-_",
        "colab_type": "text"
      },
      "source": [
        "# Numpy"
      ]
    },
    {
      "cell_type": "markdown",
      "metadata": {
        "id": "oo63KClBknzS",
        "colab_type": "text"
      },
      "source": [
        "NumPy is a library for the Python programming language, adding support for large, multi-dimensional arrays and matrices, along with a large collection of high-level mathematical functions to operate on these arrays<br>\n",
        "Numpy is a very important tool for scientific computing, allowing user to easily work on multi-dimensional data. It also contains useful mathematic functions including random sampling, trgionometric functions etc."
      ]
    },
    {
      "cell_type": "markdown",
      "metadata": {
        "id": "q7j9jvtznpa0",
        "colab_type": "text"
      },
      "source": [
        "To start working with numpy, import numpy using"
      ]
    },
    {
      "cell_type": "code",
      "metadata": {
        "id": "u2YXle-rXFCu",
        "colab_type": "code",
        "colab": {}
      },
      "source": [
        "import numpy as np"
      ],
      "execution_count": 1,
      "outputs": []
    },
    {
      "cell_type": "markdown",
      "metadata": {
        "id": "TX97vsrsn_hj",
        "colab_type": "text"
      },
      "source": [
        "np is the most common abbreviation used for numpy.<br>\n",
        "Now that numpy is loaded, we can use its functions."
      ]
    },
    {
      "cell_type": "markdown",
      "metadata": {
        "id": "Zcq97QIIoT8a",
        "colab_type": "text"
      },
      "source": [
        "# 1. Array, Matrices and Tensors"
      ]
    },
    {
      "cell_type": "markdown",
      "metadata": {
        "id": "19c6Pv7sofGR",
        "colab_type": "text"
      },
      "source": [
        "numpy can convert a list to array, or it can generate points or can fill with constant numbers."
      ]
    },
    {
      "cell_type": "code",
      "metadata": {
        "id": "eAvzw6OFocod",
        "colab_type": "code",
        "colab": {
          "base_uri": "https://localhost:8080/",
          "height": 34
        },
        "outputId": "9a3771f3-b7e1-4a46-c6f2-22ff78044e1e"
      },
      "source": [
        "np.array([1,2,3,4])"
      ],
      "execution_count": 2,
      "outputs": [
        {
          "output_type": "execute_result",
          "data": {
            "text/plain": [
              "array([1, 2, 3, 4])"
            ]
          },
          "metadata": {
            "tags": []
          },
          "execution_count": 2
        }
      ]
    },
    {
      "cell_type": "code",
      "metadata": {
        "id": "FMkV1fO2o4BH",
        "colab_type": "code",
        "colab": {
          "base_uri": "https://localhost:8080/",
          "height": 153
        },
        "outputId": "cb49fece-fba3-4ff3-a262-4734a52e86d1"
      },
      "source": [
        "# Generate 40 points between 10 and 20\n",
        "np.linspace(10,20, num=40)"
      ],
      "execution_count": 3,
      "outputs": [
        {
          "output_type": "execute_result",
          "data": {
            "text/plain": [
              "array([10.        , 10.25641026, 10.51282051, 10.76923077, 11.02564103,\n",
              "       11.28205128, 11.53846154, 11.79487179, 12.05128205, 12.30769231,\n",
              "       12.56410256, 12.82051282, 13.07692308, 13.33333333, 13.58974359,\n",
              "       13.84615385, 14.1025641 , 14.35897436, 14.61538462, 14.87179487,\n",
              "       15.12820513, 15.38461538, 15.64102564, 15.8974359 , 16.15384615,\n",
              "       16.41025641, 16.66666667, 16.92307692, 17.17948718, 17.43589744,\n",
              "       17.69230769, 17.94871795, 18.20512821, 18.46153846, 18.71794872,\n",
              "       18.97435897, 19.23076923, 19.48717949, 19.74358974, 20.        ])"
            ]
          },
          "metadata": {
            "tags": []
          },
          "execution_count": 3
        }
      ]
    },
    {
      "cell_type": "markdown",
      "metadata": {
        "id": "mmz2Ql6OpVXY",
        "colab_type": "text"
      },
      "source": [
        "For matrices, we can reshape an array, convert list of list to matrices or can fill constant value in the given sape (dimension)."
      ]
    },
    {
      "cell_type": "code",
      "metadata": {
        "id": "PoOkM65KpHeG",
        "colab_type": "code",
        "colab": {
          "base_uri": "https://localhost:8080/",
          "height": 68
        },
        "outputId": "0449e245-68ca-4cc5-a18a-ecda4ee51a7a"
      },
      "source": [
        "np.array([[1,2,3],\n",
        "          [4,5,6],\n",
        "          [7,8,9]])"
      ],
      "execution_count": 4,
      "outputs": [
        {
          "output_type": "execute_result",
          "data": {
            "text/plain": [
              "array([[1, 2, 3],\n",
              "       [4, 5, 6],\n",
              "       [7, 8, 9]])"
            ]
          },
          "metadata": {
            "tags": []
          },
          "execution_count": 4
        }
      ]
    },
    {
      "cell_type": "code",
      "metadata": {
        "id": "H2-0onw4pv9H",
        "colab_type": "code",
        "colab": {
          "base_uri": "https://localhost:8080/",
          "height": 51
        },
        "outputId": "5caf5963-5dfe-41b5-d256-a80ccf032ed3"
      },
      "source": [
        "# linear array\n",
        "x = np.array([1,2,3,4])\n",
        "# convert to 2*2 matrix\n",
        "x.reshape(2,2)"
      ],
      "execution_count": 5,
      "outputs": [
        {
          "output_type": "execute_result",
          "data": {
            "text/plain": [
              "array([[1, 2],\n",
              "       [3, 4]])"
            ]
          },
          "metadata": {
            "tags": []
          },
          "execution_count": 5
        }
      ]
    },
    {
      "cell_type": "markdown",
      "metadata": {
        "id": "EsPePJtqqIUL",
        "colab_type": "text"
      },
      "source": [
        "Here (2,2) is the shape for that numpy array. To get the shape of any array"
      ]
    },
    {
      "cell_type": "code",
      "metadata": {
        "id": "6-6JEtkJqPhr",
        "colab_type": "code",
        "colab": {
          "base_uri": "https://localhost:8080/",
          "height": 34
        },
        "outputId": "cd8642e1-f966-4906-9bf0-6db225b18a15"
      },
      "source": [
        "a = np.array([[1,2,3], [4,5,6]])\n",
        "print(a.shape)"
      ],
      "execution_count": 6,
      "outputs": [
        {
          "output_type": "stream",
          "text": [
            "(2, 3)\n"
          ],
          "name": "stdout"
        }
      ]
    },
    {
      "cell_type": "markdown",
      "metadata": {
        "id": "6V6tFJ5ep_e-",
        "colab_type": "text"
      },
      "source": [
        "To fill with constant values such as 0, 1 etc"
      ]
    },
    {
      "cell_type": "code",
      "metadata": {
        "id": "7KtVk6psqDfR",
        "colab_type": "code",
        "colab": {
          "base_uri": "https://localhost:8080/",
          "height": 153
        },
        "outputId": "90bd062f-756a-47d1-f53b-29aaeec154e0"
      },
      "source": [
        "print(np.zeros((2,4)))\n",
        "print(np.ones((3,2)))\n",
        "# replace 5 with any value\n",
        "print(np.full((3,3), 5))"
      ],
      "execution_count": 10,
      "outputs": [
        {
          "output_type": "stream",
          "text": [
            "[[0. 0. 0. 0.]\n",
            " [0. 0. 0. 0.]]\n",
            "[[1. 1.]\n",
            " [1. 1.]\n",
            " [1. 1.]]\n",
            "[[5 5 5]\n",
            " [5 5 5]\n",
            " [5 5 5]]\n"
          ],
          "name": "stdout"
        }
      ]
    },
    {
      "cell_type": "markdown",
      "metadata": {
        "id": "gdYhffxXq3RZ",
        "colab_type": "text"
      },
      "source": [
        "Shape can be of any dimension. Numpy can also store tensors which are basically matrices with more dimensions."
      ]
    },
    {
      "cell_type": "code",
      "metadata": {
        "id": "ZG-R-pTcrIcS",
        "colab_type": "code",
        "colab": {
          "base_uri": "https://localhost:8080/",
          "height": 136
        },
        "outputId": "0ff35e78-7589-45c6-ce65-d1ff51f10f8e"
      },
      "source": [
        "tensor = np.ones((2,3,4))\n",
        "print(tensor)"
      ],
      "execution_count": 11,
      "outputs": [
        {
          "output_type": "stream",
          "text": [
            "[[[1. 1. 1. 1.]\n",
            "  [1. 1. 1. 1.]\n",
            "  [1. 1. 1. 1.]]\n",
            "\n",
            " [[1. 1. 1. 1.]\n",
            "  [1. 1. 1. 1.]\n",
            "  [1. 1. 1. 1.]]]\n"
          ],
          "name": "stdout"
        }
      ]
    },
    {
      "cell_type": "markdown",
      "metadata": {
        "id": "WJlwIHBXrSC9",
        "colab_type": "text"
      },
      "source": [
        "# 2. Mathematical Operations"
      ]
    },
    {
      "cell_type": "markdown",
      "metadata": {
        "id": "hUh48nMBrcw6",
        "colab_type": "text"
      },
      "source": [
        "Numpy supports various mathematical operations on single value as well as tensors (including arrays and matrices)."
      ]
    },
    {
      "cell_type": "code",
      "metadata": {
        "id": "8HJ0pGVyrWHy",
        "colab_type": "code",
        "colab": {
          "base_uri": "https://localhost:8080/",
          "height": 51
        },
        "outputId": "e24150a8-de88-4984-ffd1-2347a5bd165c"
      },
      "source": [
        "print(np.cos(0))\n",
        "print(np.log(100))"
      ],
      "execution_count": 12,
      "outputs": [
        {
          "output_type": "stream",
          "text": [
            "1.0\n",
            "4.605170185988092\n"
          ],
          "name": "stdout"
        }
      ]
    },
    {
      "cell_type": "code",
      "metadata": {
        "id": "_-Sitdhbr0yP",
        "colab_type": "code",
        "colab": {
          "base_uri": "https://localhost:8080/",
          "height": 85
        },
        "outputId": "f883779c-4a62-44df-f968-5c03449fd593"
      },
      "source": [
        "a = np.array([[1,np.pi], [2,3]])\n",
        "\n",
        "print(np.cos(a))\n",
        "print(np.log(a))"
      ],
      "execution_count": 13,
      "outputs": [
        {
          "output_type": "stream",
          "text": [
            "[[ 0.54030231 -1.        ]\n",
            " [-0.41614684 -0.9899925 ]]\n",
            "[[0.         1.14472989]\n",
            " [0.69314718 1.09861229]]\n"
          ],
          "name": "stdout"
        }
      ]
    },
    {
      "cell_type": "markdown",
      "metadata": {
        "id": "nh630W2XsFTt",
        "colab_type": "text"
      },
      "source": [
        "All type of matrix operations are also supported."
      ]
    },
    {
      "cell_type": "code",
      "metadata": {
        "id": "h5Lsd27HsKrQ",
        "colab_type": "code",
        "colab": {
          "base_uri": "https://localhost:8080/",
          "height": 153
        },
        "outputId": "643b2b58-1fb3-4c34-ce53-f06f057ddff0"
      },
      "source": [
        "a = np.ones((2,3))\n",
        "b = np.full((2,3), 4)\n",
        "\n",
        "# element wise\n",
        "print(a + b)\n",
        "print(a - b)\n",
        "print(a * b)\n",
        "print(a / b)"
      ],
      "execution_count": 14,
      "outputs": [
        {
          "output_type": "stream",
          "text": [
            "[[5. 5. 5.]\n",
            " [5. 5. 5.]]\n",
            "[[-3. -3. -3.]\n",
            " [-3. -3. -3.]]\n",
            "[[4. 4. 4.]\n",
            " [4. 4. 4.]]\n",
            "[[0.25 0.25 0.25]\n",
            " [0.25 0.25 0.25]]\n"
          ],
          "name": "stdout"
        }
      ]
    },
    {
      "cell_type": "code",
      "metadata": {
        "id": "uSmFeRvmsa-r",
        "colab_type": "code",
        "colab": {
          "base_uri": "https://localhost:8080/",
          "height": 102
        },
        "outputId": "5e5a6efc-a01b-4b14-c2a0-4e23ccb1e001"
      },
      "source": [
        "# Inverse of matrix\n",
        "b_inv = b.T\n",
        "print(b_inv)\n",
        "\n",
        "# Matrix multiplication - a * b_inv\n",
        "print(a.dot(b_inv))"
      ],
      "execution_count": 15,
      "outputs": [
        {
          "output_type": "stream",
          "text": [
            "[[4 4]\n",
            " [4 4]\n",
            " [4 4]]\n",
            "[[12. 12.]\n",
            " [12. 12.]]\n"
          ],
          "name": "stdout"
        }
      ]
    },
    {
      "cell_type": "markdown",
      "metadata": {
        "id": "r0HXkaD4tADz",
        "colab_type": "text"
      },
      "source": [
        "Even operations with scalar and vector are also supported"
      ]
    },
    {
      "cell_type": "code",
      "metadata": {
        "id": "oNnfYlfqseyb",
        "colab_type": "code",
        "colab": {
          "base_uri": "https://localhost:8080/",
          "height": 51
        },
        "outputId": "998f628c-7116-4954-e761-5998ea5e698c"
      },
      "source": [
        "print(a * np.pi)"
      ],
      "execution_count": 16,
      "outputs": [
        {
          "output_type": "stream",
          "text": [
            "[[3.14159265 3.14159265 3.14159265]\n",
            " [3.14159265 3.14159265 3.14159265]]\n"
          ],
          "name": "stdout"
        }
      ]
    },
    {
      "cell_type": "markdown",
      "metadata": {
        "id": "6YHmyuP0tLP4",
        "colab_type": "text"
      },
      "source": [
        "Other operations"
      ]
    },
    {
      "cell_type": "code",
      "metadata": {
        "id": "E-JkdYzZtJ4n",
        "colab_type": "code",
        "colab": {
          "base_uri": "https://localhost:8080/",
          "height": 85
        },
        "outputId": "aed90875-fba3-4f23-df52-2eb5fafbba11"
      },
      "source": [
        "print(np.sqrt(b))\n",
        "print(b ** 2) # element wise square"
      ],
      "execution_count": 19,
      "outputs": [
        {
          "output_type": "stream",
          "text": [
            "[[2. 2. 2.]\n",
            " [2. 2. 2.]]\n",
            "[[16 16 16]\n",
            " [16 16 16]]\n"
          ],
          "name": "stdout"
        }
      ]
    },
    {
      "cell_type": "markdown",
      "metadata": {
        "id": "bZtUhlFNtlfF",
        "colab_type": "text"
      },
      "source": [
        "# 3. Random Sampling"
      ]
    },
    {
      "cell_type": "markdown",
      "metadata": {
        "id": "wk1WqrQUt2Zz",
        "colab_type": "text"
      },
      "source": [
        "Array of given shape, filled with rando, numbers"
      ]
    },
    {
      "cell_type": "code",
      "metadata": {
        "id": "fXY6qN7RtsUM",
        "colab_type": "code",
        "colab": {
          "base_uri": "https://localhost:8080/",
          "height": 51
        },
        "outputId": "f4ef4847-2cf2-4472-b5bf-7f0b1c1cf5ea"
      },
      "source": [
        "print(np.random.rand(2,3))"
      ],
      "execution_count": 20,
      "outputs": [
        {
          "output_type": "stream",
          "text": [
            "[[0.74568988 0.59826031 0.80932891]\n",
            " [0.237936   0.5055867  0.31938289]]\n"
          ],
          "name": "stdout"
        }
      ]
    },
    {
      "cell_type": "markdown",
      "metadata": {
        "id": "_M7_GXJ8uMGH",
        "colab_type": "text"
      },
      "source": [
        "Other useful distributions"
      ]
    },
    {
      "cell_type": "code",
      "metadata": {
        "id": "OrGHWwLWuEq0",
        "colab_type": "code",
        "colab": {
          "base_uri": "https://localhost:8080/",
          "height": 323
        },
        "outputId": "076ec5c9-fb97-4d0f-f695-08c32fc89195"
      },
      "source": [
        "# Normal distribution with mean=5 and stddev=2\n",
        "dist = np.random.normal(5, 2, (9,9))\n",
        "\n",
        "print(dist)"
      ],
      "execution_count": 21,
      "outputs": [
        {
          "output_type": "stream",
          "text": [
            "[[ 2.39799349  7.27108809  0.71682675  4.49497295  3.49860718  4.76293964\n",
            "   4.89499179  2.99750722  3.94242338]\n",
            " [ 3.74228633  7.35626069  8.06436006  4.56980949  3.89796028  4.62476777\n",
            "   6.42975532  4.17591469  5.53110481]\n",
            " [ 6.65897783 -0.29126636  5.93217668  7.78524254  7.75994707  4.11460938\n",
            "   2.97753656  4.20143763  2.88400658]\n",
            " [ 3.85464282  6.67758475  3.57341406  6.78443936  6.02566168  5.5808173\n",
            "   4.81388565  3.08904667  4.21374703]\n",
            " [ 5.21726933  4.93880282  6.06455149  4.1540008   7.39305949  7.51585811\n",
            "   1.55465506  7.65793066  7.21841948]\n",
            " [ 2.28283399  4.98535744  0.1170256   3.66937327  2.75955562  5.20779521\n",
            "   1.87702956  4.42251352  5.53536013]\n",
            " [ 5.7393484   3.97508897  1.38373483  6.17405754  4.93066965  3.94065833\n",
            "   6.315093    6.22100708  1.54771562]\n",
            " [ 5.88888045  2.809383    6.23289526  6.76003328  0.58686263  5.31402971\n",
            "   7.8353773   4.6507621   3.33571932]\n",
            " [ 5.45029259  4.12788165  1.63642283  4.17413391  3.02628532  5.97895955\n",
            "   6.50376712  7.64027125  1.92511079]]\n"
          ],
          "name": "stdout"
        }
      ]
    },
    {
      "cell_type": "markdown",
      "metadata": {
        "id": "NEYIHUhZvoZe",
        "colab_type": "text"
      },
      "source": [
        "Statistical measurements"
      ]
    },
    {
      "cell_type": "code",
      "metadata": {
        "id": "CMdzNTA3vJC7",
        "colab_type": "code",
        "colab": {
          "base_uri": "https://localhost:8080/",
          "height": 51
        },
        "outputId": "883a45d2-8d86-4a36-9164-316169137c72"
      },
      "source": [
        "data = np.random.rand(4,5)\n",
        "\n",
        "print(np.mean(data)) # mean\n",
        "print(np.var(data)) # variance"
      ],
      "execution_count": 23,
      "outputs": [
        {
          "output_type": "stream",
          "text": [
            "0.5087981467249536\n",
            "0.08498896315659359\n"
          ],
          "name": "stdout"
        }
      ]
    },
    {
      "cell_type": "markdown",
      "metadata": {
        "id": "QmaRp_0nvxuo",
        "colab_type": "text"
      },
      "source": [
        "# 4. Indexing and Slicing"
      ]
    },
    {
      "cell_type": "markdown",
      "metadata": {
        "id": "6jkFUNiwv0cM",
        "colab_type": "text"
      },
      "source": [
        "Operating on higher dimensional data requires advanced indexing and slicing methods."
      ]
    },
    {
      "cell_type": "code",
      "metadata": {
        "id": "b5nKuuKVwAqm",
        "colab_type": "code",
        "colab": {
          "base_uri": "https://localhost:8080/",
          "height": 289
        },
        "outputId": "d4c28edc-22a9-4375-e081-fd62907ae7d9"
      },
      "source": [
        "# A tensor with shape (3, 4, 2)\n",
        "\n",
        "t = np.random.rand(3, 4, 2)\n",
        "print(t)\n",
        "\n",
        "# selecting first element at 0,0,0\n",
        "print(t[0,0,0])\n",
        "\n",
        "# selecting element at 1,2,0\n",
        "print(t[1,2,0])"
      ],
      "execution_count": 26,
      "outputs": [
        {
          "output_type": "stream",
          "text": [
            "[[[0.26820136 0.2257293 ]\n",
            "  [0.10780807 0.70646175]\n",
            "  [0.14114978 0.33340541]\n",
            "  [0.00914399 0.97083635]]\n",
            "\n",
            " [[0.53161623 0.68690143]\n",
            "  [0.01584559 0.67169812]\n",
            "  [0.73430523 0.17145588]\n",
            "  [0.58617776 0.5051056 ]]\n",
            "\n",
            " [[0.88543992 0.72093518]\n",
            "  [0.17064674 0.03807685]\n",
            "  [0.53583513 0.14245991]\n",
            "  [0.84060044 0.82172754]]]\n",
            "0.2682013593994662\n",
            "0.734305234706431\n"
          ],
          "name": "stdout"
        }
      ]
    },
    {
      "cell_type": "code",
      "metadata": {
        "id": "4iuDaKBTwpyL",
        "colab_type": "code",
        "colab": {
          "base_uri": "https://localhost:8080/",
          "height": 102
        },
        "outputId": "c67b53cf-75f4-41a6-cf7b-e25d2942dad5"
      },
      "source": [
        "# selecting entire matrix at position 1 in the first dimension\n",
        "print(t[1])\n",
        "\n",
        "# selecting vector at position 1,2 for the first two dimensions\n",
        "print(t[1,2])"
      ],
      "execution_count": 27,
      "outputs": [
        {
          "output_type": "stream",
          "text": [
            "[[0.53161623 0.68690143]\n",
            " [0.01584559 0.67169812]\n",
            " [0.73430523 0.17145588]\n",
            " [0.58617776 0.5051056 ]]\n",
            "[0.73430523 0.17145588]\n"
          ],
          "name": "stdout"
        }
      ]
    },
    {
      "cell_type": "markdown",
      "metadata": {
        "id": "yUMcd_aqxGxu",
        "colab_type": "text"
      },
      "source": [
        "Numpy supports python like ' : ' based slicing"
      ]
    },
    {
      "cell_type": "code",
      "metadata": {
        "id": "wHx49CSCxArE",
        "colab_type": "code",
        "colab": {
          "base_uri": "https://localhost:8080/",
          "height": 170
        },
        "outputId": "64a3baa4-9ebd-4da2-f6bb-dde4a11933b5"
      },
      "source": [
        "# selecting first two row of first dimension\n",
        "print(t[:2])"
      ],
      "execution_count": 28,
      "outputs": [
        {
          "output_type": "stream",
          "text": [
            "[[[0.26820136 0.2257293 ]\n",
            "  [0.10780807 0.70646175]\n",
            "  [0.14114978 0.33340541]\n",
            "  [0.00914399 0.97083635]]\n",
            "\n",
            " [[0.53161623 0.68690143]\n",
            "  [0.01584559 0.67169812]\n",
            "  [0.73430523 0.17145588]\n",
            "  [0.58617776 0.5051056 ]]]\n"
          ],
          "name": "stdout"
        }
      ]
    },
    {
      "cell_type": "code",
      "metadata": {
        "id": "jiZzdIwLxc9Z",
        "colab_type": "code",
        "colab": {
          "base_uri": "https://localhost:8080/",
          "height": 136
        },
        "outputId": "8c9fcb04-f406-4dbf-834e-2d1316063ed6"
      },
      "source": [
        "# combining slicing for multiple dimensions\n",
        "print(t[:2, :-1, :])"
      ],
      "execution_count": 30,
      "outputs": [
        {
          "output_type": "stream",
          "text": [
            "[[[0.26820136 0.2257293 ]\n",
            "  [0.10780807 0.70646175]\n",
            "  [0.14114978 0.33340541]]\n",
            "\n",
            " [[0.53161623 0.68690143]\n",
            "  [0.01584559 0.67169812]\n",
            "  [0.73430523 0.17145588]]]\n"
          ],
          "name": "stdout"
        }
      ]
    },
    {
      "cell_type": "markdown",
      "metadata": {
        "id": "D4sD8n7wxxOv",
        "colab_type": "text"
      },
      "source": [
        "Replacing a column with some value"
      ]
    },
    {
      "cell_type": "code",
      "metadata": {
        "id": "awalcB6Gx01d",
        "colab_type": "code",
        "colab": {
          "base_uri": "https://localhost:8080/",
          "height": 255
        },
        "outputId": "8b001e1b-9f82-4b74-e085-90552c504a7f"
      },
      "source": [
        "# replacing 2nd dimension of t with first and last index of 1 with 0\n",
        "t[1, :, 1] = 0\n",
        "print(t)"
      ],
      "execution_count": 31,
      "outputs": [
        {
          "output_type": "stream",
          "text": [
            "[[[0.26820136 0.2257293 ]\n",
            "  [0.10780807 0.70646175]\n",
            "  [0.14114978 0.33340541]\n",
            "  [0.00914399 0.97083635]]\n",
            "\n",
            " [[0.53161623 0.        ]\n",
            "  [0.01584559 0.        ]\n",
            "  [0.73430523 0.        ]\n",
            "  [0.58617776 0.        ]]\n",
            "\n",
            " [[0.88543992 0.72093518]\n",
            "  [0.17064674 0.03807685]\n",
            "  [0.53583513 0.14245991]\n",
            "  [0.84060044 0.82172754]]]\n"
          ],
          "name": "stdout"
        }
      ]
    },
    {
      "cell_type": "markdown",
      "metadata": {
        "id": "QHrPqak0yILl",
        "colab_type": "text"
      },
      "source": [
        "These indexes and axis (dimension) can be used for many functions.<br>\n",
        "For example adding values in the given axis"
      ]
    },
    {
      "cell_type": "code",
      "metadata": {
        "id": "q06fJ4SoyWCc",
        "colab_type": "code",
        "colab": {
          "base_uri": "https://localhost:8080/",
          "height": 68
        },
        "outputId": "b1e6e8ed-7dbe-4ef1-d99c-ecef26d785fa"
      },
      "source": [
        "# Summing the last axis and replcaing it with the sum\n",
        "print(t.sum(axis=-1))"
      ],
      "execution_count": 32,
      "outputs": [
        {
          "output_type": "stream",
          "text": [
            "[[0.49393066 0.81426982 0.47455519 0.97998035]\n",
            " [0.53161623 0.01584559 0.73430523 0.58617776]\n",
            " [1.60637509 0.20872359 0.67829503 1.66232798]]\n"
          ],
          "name": "stdout"
        }
      ]
    }
  ]
}